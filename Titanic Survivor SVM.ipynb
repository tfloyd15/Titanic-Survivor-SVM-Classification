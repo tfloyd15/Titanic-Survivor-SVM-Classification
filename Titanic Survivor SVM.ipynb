{
 "cells": [
  {
   "cell_type": "code",
   "execution_count": 1,
   "metadata": {
    "collapsed": true
   },
   "outputs": [],
   "source": [
    "#from Kaggle created by Tom Floyd (https://www.kaggle.com/tfloyd15/titanic-dataset)\n",
    "# This Python 3 environment comes with many helpful analytics libraries installed\n",
    "# It is defined by the kaggle/python docker image: https://github.com/kaggle/docker-python\n",
    "# For example, here's several helpful packages to load in \n",
    "\n",
    "import numpy as np # linear algebra\n",
    "import pandas as pd # data processing, CSV file I/O (e.g. pd.read_csv)\n",
    "from sklearn import svm\n",
    "import os\n",
    "# Input data files are available in the \"../input/\" directory.\n",
    "# For example, running this (by clicking run or pressing Shift+Enter) will list the files in the input directory\n",
    "path = r'C:\\Users\\TF17056\\Documents\\Python\\Titanic Data'\n",
    "os.chdir(path)\n",
    "#reading in testing and training data\n",
    "training_data = pd.read_csv(\"train.csv\")\n",
    "testing_data = pd.read_csv('test.csv')\n",
    "training_data = training_data.dropna()\n",
    "#testing_data = testing_data.dropna()\n",
    "#testing_data.dropna(axis = 0, how='any')\n",
    "#Print out data labels if needed\n",
    "#print(list(testing_data.columns.values), list(training_data.columns.values))\n",
    "# Any results you write to the current directory are saved as output.\n"
   ]
  },
  {
   "cell_type": "code",
   "execution_count": 2,
   "metadata": {
    "collapsed": true
   },
   "outputs": [],
   "source": [
    "#Split training and testing data into labels and features\n",
    "def split_to_labels(data):\n",
    "    data_ids = data['PassengerId']\n",
    "    labels = data['Survived']\n",
    "    #removing data that Sklearn cannot handle\n",
    "    features = data.drop(['PassengerId', 'Survived', 'Name', 'Ticket', 'Cabin'], axis = 1)\n",
    "    return data_ids, labels, features\n",
    "\n",
    "train_ID, labels_train, features_train = split_to_labels(training_data)\n",
    "#Function is not used for test data because there are no labels for the test data\n",
    "test_ID = testing_data['PassengerId']\n",
    "features_test = testing_data.drop(['PassengerId', 'Name', 'Ticket', 'Cabin'], axis = 1)"
   ]
  },
  {
   "cell_type": "code",
   "execution_count": 3,
   "metadata": {
    "collapsed": true
   },
   "outputs": [],
   "source": [
    "#Convert non-numeric data to numeric data\n",
    "#Converts male/female Sex to binary gender\n",
    "def sex_to_binary(data):\n",
    "    data['Sex'].replace(to_replace = 'male',value = 0 , inplace=True)\n",
    "    data['Sex'].replace(to_replace = 'female', value = 1, inplace = True)\n",
    "    return data\n",
    "#Convert embarked locations to numbers S = 0 = Southhampton, Q = 1 = Queenstown, S = 2 = Southhampton\n",
    "def embarked_to_binary(data):\n",
    "    data['Embarked'].replace(\"S\", 0, inplace = True)\n",
    "    data['Embarked'].replace(\"Q\", 1, inplace = True)\n",
    "    data['Embarked'].replace(\"C\", 2, inplace = True)\n",
    "    return data\n",
    "\n",
    "#Updating training and testing data to be formatted for SVM\n",
    "features_test = sex_to_binary(features_test)\n",
    "features_test = embarked_to_binary(features_test)\n",
    "features_train = sex_to_binary(features_train)\n",
    "features_train = embarked_to_binary(features_train)\n",
    "\n",
    "for column_name in list(features_test.columns.values):\n",
    "    average = np.mean(features_test[column_name])\n",
    "    features_test[column_name]=features_test[column_name].fillna(average)"
   ]
  },
  {
   "cell_type": "code",
   "execution_count": 4,
   "metadata": {},
   "outputs": [
    {
     "data": {
      "text/plain": [
       "',PassengerId,Survived\\n0,892,1\\n1,893,1\\n2,894,1\\n3,895,1\\n4,896,1\\n5,897,1\\n6,898,1\\n7,899,1\\n8,900,1\\n9,901,1\\n10,902,1\\n11,903,0\\n12,904,1\\n13,905,0\\n14,906,0\\n15,907,1\\n16,908,1\\n17,909,1\\n18,910,1\\n19,911,1\\n20,912,1\\n21,913,1\\n22,914,1\\n23,915,1\\n24,916,1\\n25,917,1\\n26,918,1\\n27,919,1\\n28,920,1\\n29,921,1\\n30,922,1\\n31,923,1\\n32,924,1\\n33,925,1\\n34,926,1\\n35,927,0\\n36,928,1\\n37,929,1\\n38,930,1\\n39,931,1\\n40,932,1\\n41,933,1\\n42,934,0\\n43,935,1\\n44,936,1\\n45,937,0\\n46,938,1\\n47,939,1\\n48,940,1\\n49,941,1\\n50,942,1\\n51,943,1\\n52,944,1\\n53,945,1\\n54,946,1\\n55,947,1\\n56,948,1\\n57,949,0\\n58,950,1\\n59,951,1\\n60,952,0\\n61,953,1\\n62,954,0\\n63,955,1\\n64,956,1\\n65,957,1\\n66,958,0\\n67,959,1\\n68,960,1\\n69,961,1\\n70,962,0\\n71,963,0\\n72,964,1\\n73,965,1\\n74,966,1\\n75,967,1\\n76,968,1\\n77,969,1\\n78,970,1\\n79,971,0\\n80,972,1\\n81,973,1\\n82,974,1\\n83,975,1\\n84,976,1\\n85,977,1\\n86,978,1\\n87,979,0\\n88,980,1\\n89,981,1\\n90,982,1\\n91,983,1\\n92,984,1\\n93,985,1\\n94,986,1\\n95,987,0\\n96,988,1\\n97,989,1\\n98,990,0\\n99,991,1\\n100,992,1\\n101,993,1\\n102,994,1\\n103,995,0\\n104,996,1\\n105,997,1\\n106,998,0\\n107,999,1\\n108,1000,1\\n109,1001,1\\n110,1002,1\\n111,1003,1\\n112,1004,1\\n113,1005,0\\n114,1006,1\\n115,1007,1\\n116,1008,1\\n117,1009,1\\n118,1010,1\\n119,1011,1\\n120,1012,1\\n121,1013,1\\n122,1014,1\\n123,1015,1\\n124,1016,1\\n125,1017,1\\n126,1018,0\\n127,1019,1\\n128,1020,1\\n129,1021,0\\n130,1022,1\\n131,1023,1\\n132,1024,1\\n133,1025,1\\n134,1026,0\\n135,1027,0\\n136,1028,1\\n137,1029,1\\n138,1030,0\\n139,1031,1\\n140,1032,1\\n141,1033,1\\n142,1034,1\\n143,1035,1\\n144,1036,1\\n145,1037,1\\n146,1038,0\\n147,1039,0\\n148,1040,1\\n149,1041,1\\n150,1042,1\\n151,1043,1\\n152,1044,1\\n153,1045,1\\n154,1046,1\\n155,1047,0\\n156,1048,1\\n157,1049,0\\n158,1050,1\\n159,1051,1\\n160,1052,1\\n161,1053,1\\n162,1054,1\\n163,1055,1\\n164,1056,1\\n165,1057,1\\n166,1058,1\\n167,1059,1\\n168,1060,0\\n169,1061,1\\n170,1062,1\\n171,1063,1\\n172,1064,1\\n173,1065,1\\n174,1066,1\\n175,1067,1\\n176,1068,1\\n177,1069,1\\n178,1070,1\\n179,1071,1\\n180,1072,1\\n181,1073,1\\n182,1074,0\\n183,1075,1\\n184,1076,1\\n185,1077,1\\n186,1078,1\\n187,1079,1\\n188,1080,1\\n189,1081,1\\n190,1082,1\\n191,1083,1\\n192,1084,1\\n193,1085,1\\n194,1086,1\\n195,1087,1\\n196,1088,1\\n197,1089,0\\n198,1090,1\\n199,1091,1\\n200,1092,1\\n201,1093,1\\n202,1094,1\\n203,1095,1\\n204,1096,1\\n205,1097,1\\n206,1098,1\\n207,1099,1\\n208,1100,1\\n209,1101,0\\n210,1102,1\\n211,1103,1\\n212,1104,1\\n213,1105,1\\n214,1106,1\\n215,1107,1\\n216,1108,1\\n217,1109,1\\n218,1110,1\\n219,1111,1\\n220,1112,1\\n221,1113,0\\n222,1114,1\\n223,1115,0\\n224,1116,1\\n225,1117,1\\n226,1118,0\\n227,1119,1\\n228,1120,1\\n229,1121,1\\n230,1122,1\\n231,1123,1\\n232,1124,1\\n233,1125,1\\n234,1126,1\\n235,1127,0\\n236,1128,1\\n237,1129,1\\n238,1130,1\\n239,1131,1\\n240,1132,1\\n241,1133,1\\n242,1134,1\\n243,1135,1\\n244,1136,1\\n245,1137,1\\n246,1138,1\\n247,1139,1\\n248,1140,1\\n249,1141,1\\n250,1142,1\\n251,1143,0\\n252,1144,1\\n253,1145,1\\n254,1146,1\\n255,1147,1\\n256,1148,1\\n257,1149,1\\n258,1150,1\\n259,1151,0\\n260,1152,1\\n261,1153,0\\n262,1154,1\\n263,1155,1\\n264,1156,1\\n265,1157,1\\n266,1158,1\\n267,1159,1\\n268,1160,1\\n269,1161,1\\n270,1162,1\\n271,1163,1\\n272,1164,1\\n273,1165,1\\n274,1166,1\\n275,1167,1\\n276,1168,1\\n277,1169,1\\n278,1170,1\\n279,1171,1\\n280,1172,1\\n281,1173,1\\n282,1174,1\\n283,1175,1\\n284,1176,1\\n285,1177,1\\n286,1178,1\\n287,1179,1\\n288,1180,1\\n289,1181,1\\n290,1182,1\\n291,1183,1\\n292,1184,1\\n293,1185,1\\n294,1186,1\\n295,1187,0\\n296,1188,1\\n297,1189,1\\n298,1190,1\\n299,1191,1\\n300,1192,1\\n301,1193,1\\n302,1194,1\\n303,1195,0\\n304,1196,1\\n305,1197,0\\n306,1198,1\\n307,1199,0\\n308,1200,1\\n309,1201,1\\n310,1202,0\\n311,1203,1\\n312,1204,1\\n313,1205,1\\n314,1206,1\\n315,1207,1\\n316,1208,1\\n317,1209,1\\n318,1210,1\\n319,1211,1\\n320,1212,0\\n321,1213,0\\n322,1214,1\\n323,1215,1\\n324,1216,1\\n325,1217,0\\n326,1218,1\\n327,1219,0\\n328,1220,1\\n329,1221,1\\n330,1222,1\\n331,1223,1\\n332,1224,1\\n333,1225,1\\n334,1226,1\\n335,1227,1\\n336,1228,1\\n337,1229,1\\n338,1230,1\\n339,1231,1\\n340,1232,1\\n341,1233,1\\n342,1234,1\\n343,1235,1\\n344,1236,1\\n345,1237,1\\n346,1238,1\\n347,1239,1\\n348,1240,1\\n349,1241,1\\n350,1242,1\\n351,1243,1\\n352,1244,1\\n353,1245,1\\n354,1246,1\\n355,1247,1\\n356,1248,1\\n357,1249,1\\n358,1250,1\\n359,1251,1\\n360,1252,1\\n361,1253,1\\n362,1254,1\\n363,1255,1\\n364,1256,1\\n365,1257,1\\n366,1258,1\\n367,1259,1\\n368,1260,1\\n369,1261,1\\n370,1262,1\\n371,1263,1\\n372,1264,1\\n373,1265,1\\n374,1266,1\\n375,1267,1\\n376,1268,1\\n377,1269,1\\n378,1270,1\\n379,1271,1\\n380,1272,1\\n381,1273,0\\n382,1274,1\\n383,1275,1\\n384,1276,1\\n385,1277,1\\n386,1278,0\\n387,1279,1\\n388,1280,0\\n389,1281,1\\n390,1282,1\\n391,1283,1\\n392,1284,1\\n393,1285,1\\n394,1286,1\\n395,1287,1\\n396,1288,0\\n397,1289,1\\n398,1290,0\\n399,1291,1\\n400,1292,1\\n401,1293,1\\n402,1294,1\\n403,1295,1\\n404,1296,1\\n405,1297,1\\n406,1298,1\\n407,1299,1\\n408,1300,1\\n409,1301,1\\n410,1302,1\\n411,1303,1\\n412,1304,1\\n413,1305,1\\n414,1306,1\\n415,1307,1\\n416,1308,1\\n417,1309,1\\n'"
      ]
     },
     "execution_count": 4,
     "metadata": {},
     "output_type": "execute_result"
    }
   ],
   "source": [
    "clf = svm.SVC()\n",
    "clf.fit(features_train, labels_train)\n",
    "predictions = clf.predict(features_test)\n",
    "\n",
    "submission_csv = pd.DataFrame()\n",
    "submission_csv['PassengerId'] = test_ID\n",
    "submission_csv['Survived'] = predictions\n"
   ]
  },
  {
   "cell_type": "code",
   "execution_count": null,
   "metadata": {
    "collapsed": true
   },
   "outputs": [],
   "source": []
  }
 ],
 "metadata": {
  "kernelspec": {
   "display_name": "Python 3",
   "language": "python",
   "name": "python3"
  },
  "language_info": {
   "codemirror_mode": {
    "name": "ipython",
    "version": 3
   },
   "file_extension": ".py",
   "mimetype": "text/x-python",
   "name": "python",
   "nbconvert_exporter": "python",
   "pygments_lexer": "ipython3",
   "version": "3.6.3"
  }
 },
 "nbformat": 4,
 "nbformat_minor": 2
}
